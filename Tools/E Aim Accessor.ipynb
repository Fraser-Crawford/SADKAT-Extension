{
 "cells": [
  {
   "cell_type": "markdown",
   "id": "6ad8416a-315f-4941-a486-b368d0cadff7",
   "metadata": {},
   "source": [
    "# Python Scraper For E Aim\n",
    "This program can scrape the form of a particular E-AIM page and fill it in using user defined parameters. This allows for the insertion of E-AIM directly into code. Note that invalid inputs are not handled by this program. The basic flow is: open session, get page form, fill in a dictionary with form data, post the data, save the response and convert the response to csv files.\n"
   ]
  },
  {
   "cell_type": "markdown",
   "id": "749c5455-2f19-4cbd-9ec6-a903cb2b3c9d",
   "metadata": {},
   "source": [
    "This box contains functions for scraping the forms from the url."
   ]
  },
  {
   "cell_type": "code",
   "execution_count": 4,
   "id": "05ab3bdb-38d5-4718-b9a1-a149e9de2ba1",
   "metadata": {},
   "outputs": [],
   "source": [
    "from bs4 import BeautifulSoup\n",
    "from requests_html import HTMLSession\n",
    "from pprint import pprint\n",
    "from urllib.parse import urljoin\n",
    "import webbrowser\n",
    "import sys\n",
    "import csv\n",
    "\n",
    "session = HTMLSession()\n",
    "def get_all_forms(url):\n",
    "    \"\"\"Returns all form tags found on a web page's `url` \"\"\"\n",
    "    # GET request\n",
    "    res = session.get(url)\n",
    "    # for javascript driven website\n",
    "    # res.html.render()\n",
    "    soup = BeautifulSoup(res.html.html, \"html.parser\")\n",
    "    return soup.find_all(\"form\")\n",
    "\n",
    "\n",
    "def get_form_details(form):\n",
    "    \"\"\"Returns the HTML details of a form,\n",
    "    including action, method and list of form controls (inputs, etc)\"\"\"\n",
    "    details = {}\n",
    "    # get the form action (requested URL)\n",
    "    action = form.attrs.get(\"action\")\n",
    "    if action:\n",
    "        action = action.lower()\n",
    "    # get the form method (POST, GET, DELETE, etc)\n",
    "    # if not specified, GET is the default in HTML\n",
    "    method = form.attrs.get(\"method\", \"get\").lower()\n",
    "    # get all form inputs\n",
    "    inputs = []\n",
    "    for input_tag in form.find_all(\"input\"):\n",
    "        # get type of input form control\n",
    "        input_type = input_tag.attrs.get(\"type\", \"text\")\n",
    "        # get name attribute\n",
    "        input_name = input_tag.attrs.get(\"name\")\n",
    "        # get the default value of that input tag\n",
    "        input_value =input_tag.attrs.get(\"value\", \"\")\n",
    "        # add everything to that list\n",
    "        inputs.append({\"type\": input_type, \"name\": input_name, \"value\": input_value})\n",
    "    for select in form.find_all(\"select\"):\n",
    "        # get the name attribute\n",
    "        select_name = select.attrs.get(\"name\")\n",
    "        # set the type as select\n",
    "        select_type = \"select\"\n",
    "        select_options = []\n",
    "        # the default select value\n",
    "        select_default_value = \"\"\n",
    "        # iterate over options and get the value of each\n",
    "        for select_option in select.find_all(\"option\"):\n",
    "            # get the option value used to submit the form\n",
    "            option_value = select_option.attrs.get(\"value\")\n",
    "            if option_value:\n",
    "                select_options.append(option_value)\n",
    "                if select_option.attrs.get(\"selected\"):\n",
    "                    # if 'selected' attribute is set, set this option as default    \n",
    "                    select_default_value = option_value\n",
    "        if not select_default_value and select_options:\n",
    "            # if the default is not set, and there are options, take the first option as default\n",
    "            select_default_value = select_options[0]\n",
    "        # add the select to the inputs list\n",
    "        inputs.append({\"type\": select_type, \"name\": select_name, \"values\": select_options, \"value\": select_default_value})\n",
    "    for textarea in form.find_all(\"textarea\"):\n",
    "        # get the name attribute\n",
    "        textarea_name = textarea.attrs.get(\"name\")\n",
    "        # set the type as textarea\n",
    "        textarea_type = \"textarea\"\n",
    "        # get the textarea value\n",
    "        textarea_value = textarea.attrs.get(\"value\", \"\")\n",
    "        # add the textarea to the inputs list\n",
    "        inputs.append({\"type\": textarea_type, \"name\": textarea_name, \"value\": textarea_value})\n",
    "        \n",
    "    # put everything to the resulting dictionary\n",
    "    details[\"action\"] = action\n",
    "    details[\"method\"] = method\n",
    "    details[\"inputs\"] = inputs\n",
    "    return details"
   ]
  },
  {
   "cell_type": "markdown",
   "id": "5261e0a6-e81d-4e6f-8422-a6d47f9521b9",
   "metadata": {},
   "source": [
    "# Accessing a URL\n",
    "\n",
    "This box is where the URL is accessed and the forms found. All E-Aim pages only have one form, so that is assumed in the rest of the code."
   ]
  },
  {
   "cell_type": "code",
   "execution_count": 6,
   "id": "48332d26-958c-4a3b-a9fe-2ff9824ac24a",
   "metadata": {},
   "outputs": [],
   "source": [
    "# get the URL from the command line\n",
    "url = \"https://www.aim.env.uea.ac.uk/aim/model3/model3d.php\"\n",
    "all_forms = get_all_forms(url)\n",
    "#get the first form (edit this as you wish)\n",
    "# extract all form details\n",
    "form_details = get_form_details(all_forms[0])"
   ]
  },
  {
   "cell_type": "markdown",
   "id": "4d65c1e6-3130-449d-b115-15788a429b85",
   "metadata": {},
   "source": [
    "# Filling in a form\n",
    "This box contains functions that allow for creating prompts to insert into E-Aims batch mode. If running E-Aim a lot, it is recomended to compile your requests (max 100 per session) into a list, encoding them, then joining them using a new lines byte code (b'\\r\\n'). Currently only Model 3 is working, to use Model 4, use the inputs page of model 4 and create your own input parser with this template."
   ]
  },
  {
   "cell_type": "code",
   "execution_count": 8,
   "id": "1a2cd0ca-c645-4025-8d99-8a58bdf9fb09",
   "metadata": {},
   "outputs": [],
   "source": [
    "def model_three_RH_prompt(RH,water_dissociate=0,H=0,NH4=0,Na=0,SO4=0,NO3=0,Cl=0,Br=0,OH=0,NH3=0,form_HNO3=False,form_HCl=False,form_NH3=False,form_H2SO4=False,form_HBr=False,dont_form_solids=[]):\n",
    "    a=298.15\n",
    "    b=1\n",
    "    c=1\n",
    "    d=1\n",
    "    e=water_dissociate\n",
    "    f=RH\n",
    "    g=H\n",
    "    h=NH4\n",
    "    i=Na\n",
    "    j=SO4\n",
    "    k=NO3\n",
    "    l=Cl\n",
    "    m=Br\n",
    "    n=OH\n",
    "    o=NH3\n",
    "    p=0 if form_HNO3 else 3\n",
    "    q=0 if form_HCl else 3\n",
    "    r=0 if form_NH3 else 3\n",
    "    s=0 if form_H2SO4 else 3\n",
    "    t=0 if form_HBr else 3\n",
    "    u=model_3_parse_solids(dont_form_solids)\n",
    "    return f\"{a} {b} {c} {d} {e} {f} {g} {h} {i} {j} {k} {l} {m} {n} {o} {p} {q} {e} {s} {t} {u}\"\n",
    "\n",
    "def model_three_total_water_prompt(moles_of_water,water_dissociate=0,H=0,NH4=0,Na=0,SO4=0,NO3=0,Cl=0,Br=0,OH=0,NH3=0,form_HNO3=False,form_HCl=False,form_NH3=False,form_H2SO4=False,form_HBr=False,dont_form_solids=[]):\n",
    "    a=298.15\n",
    "    b=1\n",
    "    c=1\n",
    "    d=2\n",
    "    e=water_dissociate\n",
    "    f=moles_of_water\n",
    "    g=H\n",
    "    h=NH4\n",
    "    i=Na\n",
    "    j=SO4\n",
    "    k=NO3\n",
    "    l=Cl\n",
    "    m=Br\n",
    "    n=OH\n",
    "    o=NH3\n",
    "    p=0 if form_HNO3 else 3\n",
    "    q=0 if form_HCl else 3\n",
    "    r=0 if form_NH3 else 3\n",
    "    s=0 if form_H2SO4 else 3\n",
    "    t=0 if form_HBr else 3\n",
    "    u=parse_solids(dont_form_solids)\n",
    "    return f\"{a} {b} {c} {d} {e} {f} {g} {h} {i} {j} {k} {l} {m} {n} {o} {p} {q} {e} {s} {t} {u}\"\n",
    "\n",
    "def model_3_parse_solids(solids):\n",
    "    indexes = {\"(NH4)2SO4\":10,\n",
    "               \"(NH4)3H(SO4)2\":11,\n",
    "               \"NH4HSO4\":12,\n",
    "               \"NH4NO3\":13,\n",
    "               \"2NH4NO3 (NH4)2SO4\":14,\n",
    "               \"2NH4NO3 (NH4)2SO4\":15,\n",
    "               \"NH4NO3 NH4HSO4\":16,\n",
    "               \"NH4Cl\":17,\n",
    "               \"Na2SO4\":18,\n",
    "               \"Na2SO4 10H2O\":19,\n",
    "               \"Na3H(SO4)2\":20,\n",
    "               \"NaHSO4 H2O\":21,\n",
    "               \"NaHSO4\":22,\n",
    "               \"NaH3(SO4)2 H2O\":23,\n",
    "               \"Na2SO4 (NH4)2SO4 4H2O\": 24,\n",
    "               \"NaNO3\":25,\n",
    "               \"NaNO3 Na2SO4 H2O\":26,\n",
    "               \"NaCl\":27}\n",
    "               \n",
    "    \n",
    "    result = f\"{str(len(solids))} \"\n",
    "    for solid in solids:\n",
    "        result += f\"{indexes[solid]} 4 \"\n",
    "    return result"
   ]
  },
  {
   "cell_type": "markdown",
   "id": "bc6516ce-04de-4c57-ab2b-8ac2c7112261",
   "metadata": {},
   "source": [
    "# REQUIRED INPUT: Filling in the form"
   ]
  },
  {
   "cell_type": "markdown",
   "id": "37c5f274-08eb-42cb-8373-019faedfbe67",
   "metadata": {},
   "source": [
    "This box details a usage for varying the RH over 100 values from 0.1 to 0.99. 'tf' is the text field of the batch page (found using the above box). Vary the ions in solution using the optional arguments found in the above box and add any undesired solids to \"dont_form_solids\"."
   ]
  },
  {
   "cell_type": "code",
   "execution_count": 12,
   "id": "0cb4f355-8c68-4268-b72a-dfb95743771e",
   "metadata": {},
   "outputs": [],
   "source": [
    "import numpy as np\n",
    "RH = np.linspace(0.10,0.99,100)\n",
    "prompts = []\n",
    "for H in RH:\n",
    "    string = model_three_RH_prompt(H,NH4=2,SO4=1,dont_form_solids=[\"(NH4)2SO4\"])\n",
    "    bytes = string.encode()\n",
    "    prompts.append(bytes)\n",
    "final_prompt = b'\\r\\n'.join(prompts)\n",
    "data = {'wwwInputMode': 'batch', #Hidden\n",
    "        'parametric_page': '/aim/model3/model3d.php', #Hidden\n",
    "        'Model': 'ModelIII', #Hidden\n",
    "        'iCaseInorg': '1', #Hidden\n",
    "        'ExcludeWater': 'y', #Hidden\n",
    "        'OrgFileName': 'nullname', #Hidden\n",
    "        'wwwOutputMode': 'column', #Top radio buttons\n",
    "        None: 'Manage Compounds', #Not yet usable\n",
    "        'nCompounds': '0', #Not yet usable\n",
    "        'tf': final_prompt} #Text entry box"
   ]
  },
  {
   "cell_type": "markdown",
   "id": "da45f6fd-b32e-4cd9-8162-ec71a4abbfdb",
   "metadata": {},
   "source": [
    "# Form Submission\n",
    "This box submits the form to the site and saves the resulting page in html format as \"page.html\"."
   ]
  },
  {
   "cell_type": "code",
   "execution_count": 14,
   "id": "b6a66707-026b-4cf5-b504-dfb9b686e180",
   "metadata": {},
   "outputs": [
    {
     "name": "stdout",
     "output_type": "stream",
     "text": [
      "posting\n"
     ]
    },
    {
     "data": {
      "text/plain": [
       "65790"
      ]
     },
     "execution_count": 14,
     "metadata": {},
     "output_type": "execute_result"
    }
   ],
   "source": [
    "# join the url with the action (form request URL)\n",
    "url = urljoin(url, form_details[\"action\"])\n",
    "# pprint(data)\n",
    "if form_details[\"method\"] == \"post\":\n",
    "    print(\"posting\")\n",
    "    res = session.post(url, data=data)\n",
    "elif form_details[\"method\"] == \"get\":\n",
    "    print(\"getting\")\n",
    "    res = session.get(url, params=data) \n",
    "    \n",
    "# the below code is only for replacing relative URLs to absolute ones\n",
    "soup = BeautifulSoup(res.content, \"html.parser\")\n",
    "for link in soup.find_all(\"link\"):\n",
    "    try:\n",
    "        link.attrs[\"href\"] = urljoin(url, link.attrs[\"href\"])\n",
    "    except:\n",
    "        pass\n",
    "for script in soup.find_all(\"script\"):\n",
    "    try:\n",
    "        script.attrs[\"src\"] = urljoin(url, script.attrs[\"src\"])\n",
    "    except:\n",
    "        pass\n",
    "for img in soup.find_all(\"img\"):\n",
    "    try:\n",
    "        img.attrs[\"src\"] = urljoin(url, img.attrs[\"src\"])\n",
    "    except:\n",
    "        pass\n",
    "for a in soup.find_all(\"a\"):\n",
    "    try:\n",
    "        a.attrs[\"href\"] = urljoin(url, a.attrs[\"href\"])\n",
    "    except:\n",
    "        pass\n",
    "\n",
    "# write the page content to a file\n",
    "open(\"page.html\", \"w\").write(str(soup))"
   ]
  },
  {
   "cell_type": "markdown",
   "id": "ac2c0ed6-9d99-4a77-b088-4f76658ca70e",
   "metadata": {},
   "source": [
    "# Reading output as a csv\n",
    "This function takes the html and, for a model 3 batch calculation in column mode, saves 3 csvs containing the data outputted by the model over the inputs. "
   ]
  },
  {
   "cell_type": "code",
   "execution_count": 43,
   "id": "f9c783a2-18c6-4c0e-b7f9-f1e4fab03ce8",
   "metadata": {},
   "outputs": [],
   "source": [
    "#Save the webpage as \"page.html\" and this will convert the 3 tables into 3 csv files\n",
    "import numpy as np\n",
    "from bs4 import BeautifulSoup\n",
    "from requests_html import HTMLSession\n",
    "from pprint import pprint\n",
    "from urllib.parse import urljoin\n",
    "import webbrowser\n",
    "import sys\n",
    "import csv\n",
    "def convert_html_to_tables(file_name):\n",
    "    html = open(\"page.html\").read()\n",
    "    soup = BeautifulSoup(html, features=\"html.parser\")\n",
    "    # kill all script and style elements\n",
    "    for script in soup([\"script\", \"style\"]):\n",
    "        script.extract()    # rip it out\n",
    "    text = soup.get_text()\n",
    "    # break into lines and remove leading and trailing space on each\n",
    "    lines = list(line.strip() for line in text.splitlines())\n",
    "    lines = [line for line in lines if line]\n",
    "    table = -1\n",
    "    tables = [[],[],[]]\n",
    "    for line in lines:\n",
    "        if \"---\" in line:\n",
    "            continue\n",
    "        if \"Column\" in line:\n",
    "            table += 1\n",
    "        elif table >= 0:\n",
    "            result = line.split()\n",
    "            if result[1] == \"iFail\":\n",
    "                result.pop(2)\n",
    "            if result[2] == \"P\":\n",
    "                result.pop(2)\n",
    "            if not result[0].isdigit():\n",
    "                size = len(result)\n",
    "            if len(result) != size:\n",
    "                if table == 0:\n",
    "                    result += [0,0,0,0]\n",
    "                elif table == 1:\n",
    "                    result.insert(1,0)\n",
    "                    result.insert(1,0)\n",
    "            if result[0] == \"The\":\n",
    "                break\n",
    "            tables[table] += [result]\n",
    "            \n",
    "    with open(\"table1.csv\",\"w+\") as my_csv:\n",
    "        csvWriter = csv.writer(my_csv,delimiter=',')\n",
    "        csvWriter.writerows(tables[0])\n",
    "    \n",
    "    with open(\"table2.csv\",\"w+\") as my_csv:\n",
    "        csvWriter = csv.writer(my_csv,delimiter=',')\n",
    "        csvWriter.writerows(tables[1])\n",
    "    \n",
    "    with open(\"table3.csv\",\"w+\") as my_csv:\n",
    "        csvWriter = csv.writer(my_csv,delimiter=',')\n",
    "        csvWriter.writerows(tables[2])\n",
    "\n",
    "convert_html_to_tables(\"page.html\")\n"
   ]
  },
  {
   "cell_type": "markdown",
   "id": "54e31322-9d08-47c7-a2c2-f15dd48ea817",
   "metadata": {},
   "source": [
    "Take the 3 previous tables and merge them into one large table, removing redundant data. "
   ]
  },
  {
   "cell_type": "code",
   "execution_count": 65,
   "id": "d8f2296f-1f88-4bd6-8b26-991969cffb05",
   "metadata": {},
   "outputs": [],
   "source": [
    "import pandas as pd\n",
    "\n",
    "def merge_tables(name):\n",
    "    df1 = pd.read_csv(\"table1.csv\")\n",
    "    df2 = pd.read_csv(\"table2.csv\")\n",
    "    df3 = pd.read_csv(\"table3.csv\")\n",
    "    \n",
    "    df1 = df1.set_index(\"I\")\n",
    "    df2 = df2.set_index(\"I\")\n",
    "    df3 = df3.set_index(\"I\")\n",
    "    df = pd.concat([df1,df2,df3],axis=1)\n",
    "    df.to_csv(name, sep=\",\")\n",
    "    \n",
    "\n",
    "merge_tables(\"(NH4)2SO4.csv\")"
   ]
  },
  {
   "cell_type": "markdown",
   "id": "929d4d09-bbc8-411e-adef-85c1f8e63911",
   "metadata": {},
   "source": [
    "# Applying fits to data\n",
    "Solution definitions require fits of mass fraction of solute against both solution activity (equlibrium RH) and solution density. For density, the usual fit is against the square root of the mass fraction of solute."
   ]
  },
  {
   "cell_type": "code",
   "execution_count": 73,
   "id": "8c291992-d4e8-45d8-8826-a94947ff2335",
   "metadata": {},
   "outputs": [],
   "source": [
    "df = pd.read_csv(\"(NH4)2SO4.csv\")"
   ]
  },
  {
   "cell_type": "markdown",
   "id": "ea603f56-45a5-4242-9fa0-44e3298ebae2",
   "metadata": {},
   "source": [
    "In E-aim, there is always one mole of salt in the solution so the mass of solute is just the molar mass of the salt in kg/mol"
   ]
  },
  {
   "cell_type": "code",
   "execution_count": 82,
   "id": "9b7a4baf-f21a-4daa-af79-c1c4cfbcaabb",
   "metadata": {},
   "outputs": [
    {
     "data": {
      "text/plain": [
       "0     0.961236\n",
       "1     0.955045\n",
       "2     0.948275\n",
       "3     0.940981\n",
       "4     0.933263\n",
       "        ...   \n",
       "95    0.154240\n",
       "96    0.126079\n",
       "97    0.096202\n",
       "98    0.064969\n",
       "99    0.033145\n",
       "Name: n_H2O(aq), Length: 100, dtype: float64"
      ]
     },
     "execution_count": 82,
     "metadata": {},
     "output_type": "execute_result"
    }
   ],
   "source": [
    "RH = df[\"RH\"]\n",
    "density = df[\"Density(aq)\"] * 1e3 #kg/m3 = g/L\n",
    "\n",
    "solute_mass = 132.1395 * 1e-3 #kg\n",
    "water_mass = df[\"n_H2O(aq)\"]*18.02*1e-3 #kg\n",
    "mfs = solute_mass/(water_mass+solute_mass)\n",
    "mfs"
   ]
  },
  {
   "cell_type": "code",
   "execution_count": 98,
   "id": "8c8c8b99-2485-4790-b0ac-1ba746aa88d2",
   "metadata": {},
   "outputs": [],
   "source": [
    "mfs_density_fit = np.polyfit(np.sqrt(mfs),density,5)\n",
    "mfs_activity_fit = np.polyfit(mfs,RH,7)"
   ]
  },
  {
   "cell_type": "code",
   "execution_count": 100,
   "id": "96d47aab-cb40-40d4-b53e-5dd9b07201cf",
   "metadata": {},
   "outputs": [
    {
     "data": {
      "text/plain": [
       "Text(0.5, 1.0, 'Density Fitting')"
      ]
     },
     "execution_count": 100,
     "metadata": {},
     "output_type": "execute_result"
    },
    {
     "data": {
      "image/png": "[encoded data removed]",
      "text/plain": [
       "<Figure size 640x480 with 1 Axes>"
      ]
     },
     "metadata": {},
     "output_type": "display_data"
    }
   ],
   "source": [
    "import matplotlib.pyplot as plt\n",
    "plt.plot(mfs,np.poly1d(mfs_density_fit)(np.sqrt(mfs)))\n",
    "plt.plot(mfs,density,\"--\")\n",
    "plt.title(\"Density Fitting\")"
   ]
  },
  {
   "cell_type": "code",
   "execution_count": 104,
   "id": "619f8b6a-c7ef-44dc-b5b6-66591d2b46f9",
   "metadata": {},
   "outputs": [
    {
     "data": {
      "text/plain": [
       "Text(0.5, 1.0, 'Activity Fitting')"
      ]
     },
     "execution_count": 104,
     "metadata": {},
     "output_type": "execute_result"
    },
    {
     "data": {
      "image/png": "[encoded data removed]",
      "text/plain": [
       "<Figure size 640x480 with 1 Axes>"
      ]
     },
     "metadata": {},
     "output_type": "display_data"
    }
   ],
   "source": [
    "plt.plot(mfs,np.poly1d(mfs_activity_fit)(mfs))\n",
    "plt.plot(mfs,RH,\"--\")\n",
    "plt.title(\"Activity Fitting\")"
   ]
  },
  {
   "cell_type": "code",
   "execution_count": 106,
   "id": "136e7aa2-2451-40f8-963b-ac0482c35118",
   "metadata": {},
   "outputs": [
    {
     "name": "stdout",
     "output_type": "stream",
     "text": [
      "[ -28.15630782   88.73404482 -107.41329752   65.17689412  -22.50820346\n",
      "    3.77943941   -0.56985704    1.00629711]\n",
      "[ 226.25500764 -608.16739502  491.53895936  421.04298406   16.65801575\n",
      "  997.3889799 ]\n"
     ]
    }
   ],
   "source": [
    "print(mfs_activity_fit)\n",
    "print(mfs_density_fit)"
   ]
  },
  {
   "cell_type": "code",
   "execution_count": null,
   "id": "1bc5171c-ff43-47fe-ab45-48527a632042",
   "metadata": {},
   "outputs": [],
   "source": []
  }
 ],
 "metadata": {
  "kernelspec": {
   "display_name": "Python 3 (ipykernel)",
   "language": "python",
   "name": "python3"
  },
  "language_info": {
   "codemirror_mode": {
    "name": "ipython",
    "version": 3
   },
   "file_extension": ".py",
   "mimetype": "text/x-python",
   "name": "python",
   "nbconvert_exporter": "python",
   "pygments_lexer": "ipython3",
   "version": "3.10.15"
  }
 },
 "nbformat": 4,
 "nbformat_minor": 5
}
